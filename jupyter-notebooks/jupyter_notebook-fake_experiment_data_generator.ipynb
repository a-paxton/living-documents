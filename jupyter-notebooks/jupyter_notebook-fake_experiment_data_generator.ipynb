{
 "cells": [
  {
   "cell_type": "markdown",
   "metadata": {},
   "source": [
    "# Making fake data"
   ]
  },
  {
   "cell_type": "markdown",
   "metadata": {},
   "source": [
    "For the sake of this workshop, we'll be using\n",
    "some fake data from a fake experiment. This Jupyter\n",
    "notebook contains code to create the data."
   ]
  },
  {
   "cell_type": "markdown",
   "metadata": {},
   "source": [
    "Let's say that we're interested in seeing how people bond\n",
    "(or build rapport) with one another based on different\n",
    "kinds of conversations. In our fake experiment, we'll ask\n",
    "two strangers to come into the lab and ask them to have\n",
    "a conversation with one another. They'll be randomly \n",
    "assigned to either have a conversation about a really good thing\n",
    "that happened to them in the past week (\"celebration\"\n",
    "conversation) or a really bad thing that happened to them in \n",
    "the past week (\"commiseration\" conversation). \n",
    "Their conversation will be audio- and video-recorded."
   ]
  },
  {
   "cell_type": "markdown",
   "metadata": {},
   "source": [
    "Let's say that this fake experiment is going to test\n",
    "the similarity of positive emotion words versus negative\n",
    "emotion words that people said during those\n",
    "conversations. We want to see whether partners who use\n",
    "similar negative and/or positive words in these two\n",
    "different kinds of conversations are rated as having\n",
    "higher rapport by expert observers."
   ]
  },
  {
   "cell_type": "markdown",
   "metadata": {},
   "source": [
    "To figure out negative and positive word similarity,\n",
    "let's say that we transcribed their conversations and\n",
    "simply counted up the number of times per turn that\n",
    "each person used negative words and positive words.\n",
    "We then get the similarity score by taking the correlation\n",
    "of those two scores."
   ]
  },
  {
   "cell_type": "markdown",
   "metadata": {},
   "source": [
    "To track rapport, let's say that we recruited 2\n",
    "expert observers as raters. Let's say that we trained them\n",
    "to continuously rate rapport from the videos using\n",
    "a joystick-style method (cf. Sadler, Ethier, Gunn,\n",
    "Duong, Woody, 2009), creating a time series of ratings between\n",
    "0 and 1. We then obtained a single rapport rating for the dyad\n",
    "by taking the mean of the time series."
   ]
  },
  {
   "cell_type": "markdown",
   "metadata": {},
   "source": [
    "This means our data will look something like this:\n",
    "* **Dependent variable**: `rapport` (0 to 1; average of \n",
    "    continuous moment-to-moment rating by expert observers)\n",
    "* **Independent variables**: \n",
    "    * `negative_word_similarity` (-1 to +1; correlation \n",
    "        of negative words used by conversation partners)\n",
    "    * `positive_word_similarity` (-1 to +1; correlation \n",
    "        of positive words used by conversation partners)\n",
    "    * `conversation_type` (0 = \"commiseration\" conversation;\n",
    "        1 = \"celebration\" conversation)"
   ]
  },
  {
   "cell_type": "markdown",
   "metadata": {},
   "source": [
    "**Created by**: A. Paxton (University of \n",
    "Connecticut)"
   ]
  },
  {
   "cell_type": "markdown",
   "metadata": {},
   "source": [
    "**Last modified**: 10 July 2020"
   ]
  },
  {
   "cell_type": "markdown",
   "metadata": {},
   "source": [
    "***"
   ]
  },
  {
   "cell_type": "markdown",
   "metadata": {},
   "source": [
    "## Import libraries"
   ]
  },
  {
   "cell_type": "markdown",
   "metadata": {},
   "source": [
    "When programming, there are a lot of basic functions (or \n",
    "specific actions that are applied to data; e.g., addition,\n",
    "subtraction) that are built into the core of the language. \n",
    "To expand the power of programming languages, people often\n",
    "write and share additional *libraries* or *packages* that\n",
    "have been developed to incorporate other functions. We\n",
    "have to `import` each additional package or library before\n",
    "we can use those functions, which we do below."
   ]
  },
  {
   "cell_type": "markdown",
   "metadata": {},
   "source": [
    "We can import entire libraries:"
   ]
  },
  {
   "cell_type": "code",
   "execution_count": null,
   "metadata": {},
   "outputs": [],
   "source": [
    "import random"
   ]
  },
  {
   "cell_type": "markdown",
   "metadata": {},
   "source": [
    "We can assign shorter names to whole libraries\n",
    "to make typing easier:"
   ]
  },
  {
   "cell_type": "code",
   "execution_count": null,
   "metadata": {},
   "outputs": [],
   "source": [
    "import pandas as pd\n",
    "import numpy as np"
   ]
  },
  {
   "cell_type": "markdown",
   "metadata": {},
   "source": [
    "And we can even just grab specific functions if we\n",
    "don't need the whole package:"
   ]
  },
  {
   "cell_type": "code",
   "execution_count": null,
   "metadata": {},
   "outputs": [],
   "source": [
    "from sklearn.preprocessing import scale"
   ]
  },
  {
   "cell_type": "markdown",
   "metadata": {},
   "source": [
    "## Specify how many dyads we want"
   ]
  },
  {
   "cell_type": "markdown",
   "metadata": {},
   "source": [
    "How many total dyads do we want?"
   ]
  },
  {
   "cell_type": "code",
   "execution_count": null,
   "metadata": {},
   "outputs": [],
   "source": [
    "dyad_n = 40"
   ]
  },
  {
   "cell_type": "markdown",
   "metadata": {},
   "source": [
    "How many commiseration dyads do we want?"
   ]
  },
  {
   "cell_type": "code",
   "execution_count": null,
   "metadata": {},
   "outputs": [],
   "source": [
    "commiseration_dyads = 25"
   ]
  },
  {
   "cell_type": "markdown",
   "metadata": {},
   "source": [
    "However many we have left over is how many\n",
    "celebration dyads we have."
   ]
  },
  {
   "cell_type": "code",
   "execution_count": null,
   "metadata": {},
   "outputs": [],
   "source": [
    "celebration_dyads = dyad_n - commiseration_dyads"
   ]
  },
  {
   "cell_type": "markdown",
   "metadata": {},
   "source": [
    "## Add dyads to dataframe"
   ]
  },
  {
   "cell_type": "markdown",
   "metadata": {},
   "source": [
    "Create dyad IDs and dataframe for commiseration condition."
   ]
  },
  {
   "cell_type": "code",
   "execution_count": null,
   "metadata": {},
   "outputs": [],
   "source": [
    "commiseration_dyad_IDs = range(1, \n",
    "                               commiseration_dyads+1)"
   ]
  },
  {
   "cell_type": "code",
   "execution_count": null,
   "metadata": {},
   "outputs": [],
   "source": [
    "commiseration_dyad_df = pd.DataFrame({'dyad_ID': commiseration_dyad_IDs,\n",
    "                                      'condition': 0})"
   ]
  },
  {
   "cell_type": "markdown",
   "metadata": {},
   "source": [
    "Create dyad IDs and dataframe for celebration condition."
   ]
  },
  {
   "cell_type": "code",
   "execution_count": null,
   "metadata": {},
   "outputs": [],
   "source": [
    "celebration_dyad_IDs = range(commiseration_dyads+1,\n",
    "                             dyad_n+1)"
   ]
  },
  {
   "cell_type": "code",
   "execution_count": null,
   "metadata": {},
   "outputs": [],
   "source": [
    "celebration_dyad_df = pd.DataFrame({'dyad_ID': celebration_dyad_IDs,\n",
    "                                   'condition': 1})"
   ]
  },
  {
   "cell_type": "markdown",
   "metadata": {},
   "source": [
    "## Randomly generate rapport variables"
   ]
  },
  {
   "cell_type": "markdown",
   "metadata": {},
   "source": [
    "Whenever we rely on random number generation in programming, it's\n",
    "critical to set a seed for our random number generator. This allows\n",
    "us to facilitate *computational reproducibility*, or the ability for\n",
    "us to re-run the code and get precisely the same values. In the\n",
    "case of randomly generated numbers or any programs that incorporate\n",
    "randomness, it's even more important to set the seed."
   ]
  },
  {
   "cell_type": "code",
   "execution_count": null,
   "metadata": {},
   "outputs": [],
   "source": [
    "random.seed(30)"
   ]
  },
  {
   "cell_type": "markdown",
   "metadata": {},
   "source": [
    "Let's make sure that our commiseration mean \n",
    "is higher than the celebration mean."
   ]
  },
  {
   "cell_type": "code",
   "execution_count": null,
   "metadata": {},
   "outputs": [],
   "source": [
    "commiseration_mean = .6"
   ]
  },
  {
   "cell_type": "code",
   "execution_count": null,
   "metadata": {},
   "outputs": [],
   "source": [
    "commiseration_sigma = .2"
   ]
  },
  {
   "cell_type": "code",
   "execution_count": null,
   "metadata": {},
   "outputs": [],
   "source": [
    "celebration_mean = .3"
   ]
  },
  {
   "cell_type": "code",
   "execution_count": null,
   "metadata": {},
   "outputs": [],
   "source": [
    "celebration_sigma = .1"
   ]
  },
  {
   "cell_type": "markdown",
   "metadata": {},
   "source": [
    "Now, let's create separate distributions for each rapport."
   ]
  },
  {
   "cell_type": "code",
   "execution_count": null,
   "metadata": {},
   "outputs": [],
   "source": [
    "commiseration_rapport = [round(np.random.normal(commiseration_mean,\n",
    "                                                commiseration_sigma), 1)\n",
    "                         for dyad in range(0, commiseration_dyads)]"
   ]
  },
  {
   "cell_type": "code",
   "execution_count": null,
   "metadata": {},
   "outputs": [],
   "source": [
    "celebration_rapport = [round(np.random.normal(celebration_mean,\n",
    "                                              celebration_sigma), 1)\n",
    "                         for dyad in range(0, celebration_dyads)]"
   ]
  },
  {
   "cell_type": "markdown",
   "metadata": {},
   "source": [
    "And now we add them to the dataframes."
   ]
  },
  {
   "cell_type": "code",
   "execution_count": null,
   "metadata": {},
   "outputs": [],
   "source": [
    "commiseration_dyad_df['rapport'] = commiseration_rapport"
   ]
  },
  {
   "cell_type": "code",
   "execution_count": null,
   "metadata": {},
   "outputs": [],
   "source": [
    "celebration_dyad_df['rapport'] = celebration_rapport"
   ]
  },
  {
   "cell_type": "markdown",
   "metadata": {},
   "source": [
    "## Randomly create similarity scores"
   ]
  },
  {
   "cell_type": "markdown",
   "metadata": {},
   "source": [
    "Let's create them for the commiseration participants."
   ]
  },
  {
   "cell_type": "code",
   "execution_count": null,
   "metadata": {},
   "outputs": [],
   "source": [
    "commiseration_positive = commiseration_dyad_df['rapport']/5 * .25 + [\n",
    "        random.random() for dyad in range(0, commiseration_dyads)]"
   ]
  },
  {
   "cell_type": "code",
   "execution_count": null,
   "metadata": {},
   "outputs": [],
   "source": [
    "commiseration_negative = commiseration_dyad_df['rapport']/5 * .75 + [\n",
    "            random.random() for dyad in range(0, commiseration_dyads)]"
   ]
  },
  {
   "cell_type": "markdown",
   "metadata": {},
   "source": [
    "And for the celebration participants."
   ]
  },
  {
   "cell_type": "code",
   "execution_count": null,
   "metadata": {},
   "outputs": [],
   "source": [
    "celebration_positive = celebration_dyad_df['rapport']/5 * .5 + [\n",
    "        random.random() for dyad in range(0, celebration_dyads)]"
   ]
  },
  {
   "cell_type": "code",
   "execution_count": null,
   "metadata": {},
   "outputs": [],
   "source": [
    "celebration_negative = celebration_dyad_df['rapport']/5 * .3 + [\n",
    "        random.random() for dyad in range(0, celebration_dyads)]"
   ]
  },
  {
   "cell_type": "markdown",
   "metadata": {},
   "source": [
    "Again, we'll add them to the dataframe."
   ]
  },
  {
   "cell_type": "code",
   "execution_count": null,
   "metadata": {},
   "outputs": [],
   "source": [
    "commiseration_dyad_df['negative_word_similarity'] = [round(score, 2)\n",
    "                                                     for score in commiseration_negative]"
   ]
  },
  {
   "cell_type": "code",
   "execution_count": null,
   "metadata": {},
   "outputs": [],
   "source": [
    "commiseration_dyad_df['positive_word_similarity'] = [round(score, 2)\n",
    "                                                     for score in commiseration_positive]"
   ]
  },
  {
   "cell_type": "code",
   "execution_count": null,
   "metadata": {},
   "outputs": [],
   "source": [
    "celebration_dyad_df['negative_word_similarity'] = [round(score, 2)\n",
    "                                                   for score in celebration_negative]"
   ]
  },
  {
   "cell_type": "code",
   "execution_count": null,
   "metadata": {},
   "outputs": [],
   "source": [
    "celebration_dyad_df['positive_word_similarity'] = [round(score, 2)\n",
    "                                                   for score in celebration_positive]"
   ]
  },
  {
   "cell_type": "markdown",
   "metadata": {},
   "source": [
    "## Create unified dataset"
   ]
  },
  {
   "cell_type": "markdown",
   "metadata": {},
   "source": [
    "Now that we've created separate subsets for each condition,\n",
    "we'll combine them to create a single experiment dataframe."
   ]
  },
  {
   "cell_type": "code",
   "execution_count": null,
   "metadata": {},
   "outputs": [],
   "source": [
    "experiment_df = commiseration_dyad_df.append(celebration_dyad_df).reset_index(drop=True)"
   ]
  },
  {
   "cell_type": "markdown",
   "metadata": {},
   "source": [
    "Let's say that we want to scale our positive and negative \n",
    "similarity scores, rather than using raw correlations.\n",
    "We have a function that will help us (`scale`),\n",
    "and we can get more information on how to use it by executing\n",
    "this command:"
   ]
  },
  {
   "cell_type": "code",
   "execution_count": null,
   "metadata": {},
   "outputs": [],
   "source": [
    "?scale"
   ]
  },
  {
   "cell_type": "markdown",
   "metadata": {},
   "source": [
    "Let's scale the word similarity scores."
   ]
  },
  {
   "cell_type": "code",
   "execution_count": null,
   "metadata": {},
   "outputs": [],
   "source": [
    "experiment_df['negative_word_similarity_scaled'] = scale(experiment_df['negative_word_similarity'],\n",
    "                                                 axis=0, with_mean=True, with_std=True, copy=True)"
   ]
  },
  {
   "cell_type": "code",
   "execution_count": null,
   "metadata": {},
   "outputs": [],
   "source": [
    "experiment_df['positive_word_similarity_scaled'] = scale(experiment_df['positive_word_similarity'],\n",
    "                                                 axis=0, with_mean=True, with_std=True, copy=True)"
   ]
  },
  {
   "cell_type": "markdown",
   "metadata": {},
   "source": [
    "How do our data look now?"
   ]
  },
  {
   "cell_type": "code",
   "execution_count": null,
   "metadata": {
    "scrolled": true
   },
   "outputs": [],
   "source": [
    "experiment_df"
   ]
  },
  {
   "cell_type": "markdown",
   "metadata": {},
   "source": [
    "## Save to file"
   ]
  },
  {
   "cell_type": "code",
   "execution_count": null,
   "metadata": {},
   "outputs": [],
   "source": [
    "experiment_df.to_csv('../data/simulated_experiment_data.csv',\n",
    "                     sep=',',\n",
    "                     header=True,\n",
    "                     index=False)"
   ]
  }
 ],
 "metadata": {
  "kernelspec": {
   "display_name": "Python 3",
   "language": "python",
   "name": "python3"
  },
  "language_info": {
   "codemirror_mode": {
    "name": "ipython",
    "version": 3
   },
   "file_extension": ".py",
   "mimetype": "text/x-python",
   "name": "python",
   "nbconvert_exporter": "python",
   "pygments_lexer": "ipython3",
   "version": "3.7.5"
  }
 },
 "nbformat": 4,
 "nbformat_minor": 4
}
