{
 "cells": [
  {
   "cell_type": "markdown",
   "metadata": {},
   "source": [
    "# Making fake data"
   ]
  },
  {
   "cell_type": "markdown",
   "metadata": {},
   "source": [
    "For the sake of this workshop, we'll be using\n",
    "some fake data from a fake experiment. This Jupyter\n",
    "notebook contains code to create the data."
   ]
  },
  {
   "cell_type": "markdown",
   "metadata": {},
   "source": [
    "Let's say that we're interested in seeing how people bond\n",
    "(or build rapport) with one another based on different\n",
    "kinds of conversations. In our fake experiment, we'll ask\n",
    "two strangers to come into the lab and ask them to have\n",
    "a conversation with one another. They'll be randomly \n",
    "assigned to either have a conversation about a really good thing\n",
    "that happened to them in the past week (\"celebration\"\n",
    "conversation) or a really bad thing that happened to them in \n",
    "the past week (\"commiseration\" conversation). Their conversation\n",
    "will be audio-recorded. After they have the conversation,\n",
    "they'll each individually answer a question about how much\n",
    "they like their partner."
   ]
  },
  {
   "cell_type": "markdown",
   "metadata": {},
   "source": [
    "Let's say that this fake experiment is going to test\n",
    "the similarity of positive emotion words versus negative\n",
    "emotion words that people said during those\n",
    "conversations. We want to see whether partners who use\n",
    "similar negative and/or positive words in these two\n",
    "different kinds of conversations end up liking\n",
    "their partner more."
   ]
  },
  {
   "cell_type": "markdown",
   "metadata": {},
   "source": [
    "To figure out negative and positive word similarity,\n",
    "let's say that we transcribed their conversations and\n",
    "simply counted up the number of times per turn that\n",
    "each person used negative words and positive words.\n",
    "We then get the similarity score by taking the correlation\n",
    "of those two scores."
   ]
  },
  {
   "cell_type": "markdown",
   "metadata": {},
   "source": [
    "This means our data will look something like this:\n",
    "* **Dependent variable**: `rapport` (1-5 scale)\n",
    "* **Independent variables**: \n",
    "    * `negative_word_similarity` (-1 to +1; correlation \n",
    "        of negative words used by conversation partners)\n",
    "    * `positive_word_similarity` (-1 to +1; correlation \n",
    "        of positive words used by conversation partners)\n",
    "    * `conversation_type` (0 = \"commiseration\" conversation;\n",
    "        1 = \"celebration\" conversation)"
   ]
  },
  {
   "cell_type": "markdown",
   "metadata": {},
   "source": [
    "**Created by**: A. Paxton (University of \n",
    "California, Berkeley)"
   ]
  },
  {
   "cell_type": "markdown",
   "metadata": {},
   "source": [
    "**Last modified**: 05 April 2018"
   ]
  },
  {
   "cell_type": "markdown",
   "metadata": {},
   "source": [
    "***"
   ]
  },
  {
   "cell_type": "markdown",
   "metadata": {},
   "source": [
    "## Import libraries"
   ]
  },
  {
   "cell_type": "markdown",
   "metadata": {},
   "source": [
    "When programming, there are a lot of basic functions (or \n",
    "specific actions that are applied to data; e.g., addition,\n",
    "sutraction) that are built into the core of the language. \n",
    "To expand the power of programming languages, people often\n",
    "write and share additional *libraries* or *packages* that\n",
    "have been developed to incorporate other functions. We\n",
    "have to `import` each additional package or library before\n",
    "we can use those functions, which we do below."
   ]
  },
  {
   "cell_type": "markdown",
   "metadata": {},
   "source": [
    "We can import entire libraries:"
   ]
  },
  {
   "cell_type": "code",
   "execution_count": 1,
   "metadata": {},
   "outputs": [],
   "source": [
    "import random"
   ]
  },
  {
   "cell_type": "markdown",
   "metadata": {},
   "source": [
    "We can assign shorter names to whole libraries\n",
    "to make typing easier:"
   ]
  },
  {
   "cell_type": "code",
   "execution_count": 2,
   "metadata": {},
   "outputs": [],
   "source": [
    "import pandas as pd\n",
    "import numpy as np"
   ]
  },
  {
   "cell_type": "markdown",
   "metadata": {},
   "source": [
    "And we can even just grab specific functions if we\n",
    "don't need the whole package:"
   ]
  },
  {
   "cell_type": "code",
   "execution_count": 3,
   "metadata": {},
   "outputs": [],
   "source": [
    "from sklearn.preprocessing import scale"
   ]
  },
  {
   "cell_type": "markdown",
   "metadata": {},
   "source": [
    "## Specify how many dyads we want"
   ]
  },
  {
   "cell_type": "markdown",
   "metadata": {},
   "source": [
    "How many total dyads do we want?"
   ]
  },
  {
   "cell_type": "code",
   "execution_count": 4,
   "metadata": {},
   "outputs": [],
   "source": [
    "dyad_n = 40"
   ]
  },
  {
   "cell_type": "markdown",
   "metadata": {},
   "source": [
    "How many commiseration dyads do we want?"
   ]
  },
  {
   "cell_type": "code",
   "execution_count": 5,
   "metadata": {},
   "outputs": [],
   "source": [
    "commiseration_dyads = 25"
   ]
  },
  {
   "cell_type": "markdown",
   "metadata": {},
   "source": [
    "However many we have left over is how many\n",
    "celebration dyads we have."
   ]
  },
  {
   "cell_type": "code",
   "execution_count": 6,
   "metadata": {},
   "outputs": [],
   "source": [
    "celebration_dyads = dyad_n - commiseration_dyads"
   ]
  },
  {
   "cell_type": "markdown",
   "metadata": {},
   "source": [
    "## Add dyads to dataframe"
   ]
  },
  {
   "cell_type": "markdown",
   "metadata": {},
   "source": [
    "Create dyad IDs and dataframe for commiseration condition."
   ]
  },
  {
   "cell_type": "code",
   "execution_count": 7,
   "metadata": {},
   "outputs": [],
   "source": [
    "commiseration_dyad_IDs = range(1, \n",
    "                               commiseration_dyads+1)"
   ]
  },
  {
   "cell_type": "code",
   "execution_count": 8,
   "metadata": {},
   "outputs": [],
   "source": [
    "commiseration_dyad_df = pd.DataFrame({'dyad_ID': commiseration_dyad_IDs,\n",
    "                                      'condition': 0})"
   ]
  },
  {
   "cell_type": "markdown",
   "metadata": {},
   "source": [
    "Create dyad IDs and dataframe for celebration condition."
   ]
  },
  {
   "cell_type": "code",
   "execution_count": 9,
   "metadata": {},
   "outputs": [],
   "source": [
    "celebration_dyad_IDs = range(commiseration_dyads+1,\n",
    "                             dyad_n+1)"
   ]
  },
  {
   "cell_type": "code",
   "execution_count": 10,
   "metadata": {},
   "outputs": [],
   "source": [
    "celebration_dyad_df = pd.DataFrame({'dyad_ID': celebration_dyad_IDs,\n",
    "                                   'condition': 1})"
   ]
  },
  {
   "cell_type": "markdown",
   "metadata": {},
   "source": [
    "## Randomly generate rapport variables"
   ]
  },
  {
   "cell_type": "markdown",
   "metadata": {},
   "source": [
    "Let's make sure that our commiseration mean \n",
    "is higher than the celebration mean."
   ]
  },
  {
   "cell_type": "code",
   "execution_count": 11,
   "metadata": {},
   "outputs": [],
   "source": [
    "commiseration_mean = 4"
   ]
  },
  {
   "cell_type": "code",
   "execution_count": 12,
   "metadata": {},
   "outputs": [],
   "source": [
    "celebration_mean = 2"
   ]
  },
  {
   "cell_type": "markdown",
   "metadata": {},
   "source": [
    "Now, let's create separate distributions for each rapport."
   ]
  },
  {
   "cell_type": "code",
   "execution_count": 13,
   "metadata": {
    "scrolled": false
   },
   "outputs": [],
   "source": [
    "commiseration_rapport = [round(random.triangular(1,5, commiseration_mean), 0)\n",
    "                         for dyad in range(0, commiseration_dyads)]"
   ]
  },
  {
   "cell_type": "code",
   "execution_count": 14,
   "metadata": {},
   "outputs": [],
   "source": [
    "celebration_rapport = [round(random.triangular(1,5, celebration_mean), 0) \n",
    "                         for dyad in range(0, celebration_dyads)]"
   ]
  },
  {
   "cell_type": "markdown",
   "metadata": {},
   "source": [
    "And now we add them to the dataframes."
   ]
  },
  {
   "cell_type": "code",
   "execution_count": 15,
   "metadata": {},
   "outputs": [],
   "source": [
    "commiseration_dyad_df['rapport'] = commiseration_rapport"
   ]
  },
  {
   "cell_type": "code",
   "execution_count": 16,
   "metadata": {},
   "outputs": [],
   "source": [
    "celebration_dyad_df['rapport'] = celebration_rapport"
   ]
  },
  {
   "cell_type": "markdown",
   "metadata": {},
   "source": [
    "## Randomly create similarity scores"
   ]
  },
  {
   "cell_type": "markdown",
   "metadata": {},
   "source": [
    "Let's create them for the commiseration participants."
   ]
  },
  {
   "cell_type": "code",
   "execution_count": 17,
   "metadata": {},
   "outputs": [],
   "source": [
    "commiseration_positive = commiseration_dyad_df['rapport']/5 * .25 + [\n",
    "        random.random() for dyad in range(0, commiseration_dyads)]"
   ]
  },
  {
   "cell_type": "code",
   "execution_count": 18,
   "metadata": {},
   "outputs": [],
   "source": [
    "commiseration_negative = commiseration_dyad_df['rapport']/5 * .75 + [\n",
    "            random.random() for dyad in range(0, commiseration_dyads)]"
   ]
  },
  {
   "cell_type": "markdown",
   "metadata": {},
   "source": [
    "And for the celebration participants."
   ]
  },
  {
   "cell_type": "code",
   "execution_count": 19,
   "metadata": {},
   "outputs": [],
   "source": [
    "celebration_positive = celebration_dyad_df['rapport']/5 * .5 + [\n",
    "        random.random() for dyad in range(0, celebration_dyads)]"
   ]
  },
  {
   "cell_type": "code",
   "execution_count": 20,
   "metadata": {},
   "outputs": [],
   "source": [
    "celebration_negative = celebration_dyad_df['rapport']/5 * .3 + [\n",
    "        random.random() for dyad in range(0, celebration_dyads)]"
   ]
  },
  {
   "cell_type": "markdown",
   "metadata": {},
   "source": [
    "Again, we'll add them to the dataframe."
   ]
  },
  {
   "cell_type": "code",
   "execution_count": 21,
   "metadata": {},
   "outputs": [],
   "source": [
    "commiseration_dyad_df['negative_word_similarity'] = [round(score, 2)\n",
    "                                                     for score in commiseration_negative]"
   ]
  },
  {
   "cell_type": "code",
   "execution_count": 22,
   "metadata": {},
   "outputs": [],
   "source": [
    "commiseration_dyad_df['positive_word_similarity'] = [round(score, 2)\n",
    "                                                     for score in commiseration_positive]"
   ]
  },
  {
   "cell_type": "code",
   "execution_count": 23,
   "metadata": {},
   "outputs": [],
   "source": [
    "celebration_dyad_df['negative_word_similarity'] = [round(score, 2)\n",
    "                                                   for score in celebration_negative]"
   ]
  },
  {
   "cell_type": "code",
   "execution_count": 24,
   "metadata": {},
   "outputs": [],
   "source": [
    "celebration_dyad_df['positive_word_similarity'] = [round(score, 2)\n",
    "                                                   for score in celebration_positive]"
   ]
  },
  {
   "cell_type": "markdown",
   "metadata": {},
   "source": [
    "## Create unified dataset"
   ]
  },
  {
   "cell_type": "markdown",
   "metadata": {},
   "source": [
    "Now that we've created separate subsets for each condition,\n",
    "we'll combine them to create a single experiment dataframe."
   ]
  },
  {
   "cell_type": "code",
   "execution_count": 25,
   "metadata": {},
   "outputs": [],
   "source": [
    "experiment_df = commiseration_dyad_df.append(celebration_dyad_df).reset_index(drop=True)"
   ]
  },
  {
   "cell_type": "markdown",
   "metadata": {},
   "source": [
    "Let's say that we want to scale our positive and negative \n",
    "similarity scores, rather than using raw correlations.\n",
    "We have a function that will help us (`scale`),\n",
    "and we can get more information on how to use it by executing\n",
    "this command:"
   ]
  },
  {
   "cell_type": "code",
   "execution_count": 26,
   "metadata": {},
   "outputs": [],
   "source": [
    "?scale"
   ]
  },
  {
   "cell_type": "markdown",
   "metadata": {},
   "source": [
    "Let's scale the word similarity scores."
   ]
  },
  {
   "cell_type": "code",
   "execution_count": 27,
   "metadata": {},
   "outputs": [],
   "source": [
    "experiment_df['negative_word_similarity'] = scale(experiment_df['negative_word_similarity'],\n",
    "                                                 axis=0, with_mean=True, with_std=True, copy=False)"
   ]
  },
  {
   "cell_type": "code",
   "execution_count": 28,
   "metadata": {},
   "outputs": [],
   "source": [
    "experiment_df['positive_word_similarity'] = scale(experiment_df['positive_word_similarity'],\n",
    "                                                 axis=0, with_mean=True, with_std=True, copy=False)"
   ]
  },
  {
   "cell_type": "markdown",
   "metadata": {},
   "source": [
    "How do our data look now?"
   ]
  },
  {
   "cell_type": "code",
   "execution_count": 29,
   "metadata": {
    "scrolled": true
   },
   "outputs": [
    {
     "data": {
      "text/html": [
       "<div>\n",
       "<style scoped>\n",
       "    .dataframe tbody tr th:only-of-type {\n",
       "        vertical-align: middle;\n",
       "    }\n",
       "\n",
       "    .dataframe tbody tr th {\n",
       "        vertical-align: top;\n",
       "    }\n",
       "\n",
       "    .dataframe thead th {\n",
       "        text-align: right;\n",
       "    }\n",
       "</style>\n",
       "<table border=\"1\" class=\"dataframe\">\n",
       "  <thead>\n",
       "    <tr style=\"text-align: right;\">\n",
       "      <th></th>\n",
       "      <th>condition</th>\n",
       "      <th>dyad_ID</th>\n",
       "      <th>rapport</th>\n",
       "      <th>negative_word_similarity</th>\n",
       "      <th>positive_word_similarity</th>\n",
       "    </tr>\n",
       "  </thead>\n",
       "  <tbody>\n",
       "    <tr>\n",
       "      <th>0</th>\n",
       "      <td>0</td>\n",
       "      <td>1</td>\n",
       "      <td>3.0</td>\n",
       "      <td>0.783430</td>\n",
       "      <td>-1.273177</td>\n",
       "    </tr>\n",
       "    <tr>\n",
       "      <th>1</th>\n",
       "      <td>0</td>\n",
       "      <td>2</td>\n",
       "      <td>4.0</td>\n",
       "      <td>1.399093</td>\n",
       "      <td>-1.485668</td>\n",
       "    </tr>\n",
       "    <tr>\n",
       "      <th>2</th>\n",
       "      <td>0</td>\n",
       "      <td>3</td>\n",
       "      <td>3.0</td>\n",
       "      <td>0.783430</td>\n",
       "      <td>0.710075</td>\n",
       "    </tr>\n",
       "    <tr>\n",
       "      <th>3</th>\n",
       "      <td>0</td>\n",
       "      <td>4</td>\n",
       "      <td>5.0</td>\n",
       "      <td>1.522225</td>\n",
       "      <td>0.639245</td>\n",
       "    </tr>\n",
       "    <tr>\n",
       "      <th>4</th>\n",
       "      <td>0</td>\n",
       "      <td>5</td>\n",
       "      <td>3.0</td>\n",
       "      <td>-1.586870</td>\n",
       "      <td>1.099642</td>\n",
       "    </tr>\n",
       "    <tr>\n",
       "      <th>5</th>\n",
       "      <td>0</td>\n",
       "      <td>6</td>\n",
       "      <td>3.0</td>\n",
       "      <td>-1.525303</td>\n",
       "      <td>0.178847</td>\n",
       "    </tr>\n",
       "    <tr>\n",
       "      <th>6</th>\n",
       "      <td>0</td>\n",
       "      <td>7</td>\n",
       "      <td>3.0</td>\n",
       "      <td>1.152828</td>\n",
       "      <td>1.382964</td>\n",
       "    </tr>\n",
       "    <tr>\n",
       "      <th>7</th>\n",
       "      <td>0</td>\n",
       "      <td>8</td>\n",
       "      <td>3.0</td>\n",
       "      <td>-0.447894</td>\n",
       "      <td>-1.060685</td>\n",
       "    </tr>\n",
       "    <tr>\n",
       "      <th>8</th>\n",
       "      <td>0</td>\n",
       "      <td>9</td>\n",
       "      <td>2.0</td>\n",
       "      <td>-0.571027</td>\n",
       "      <td>-0.175305</td>\n",
       "    </tr>\n",
       "    <tr>\n",
       "      <th>9</th>\n",
       "      <td>0</td>\n",
       "      <td>10</td>\n",
       "      <td>4.0</td>\n",
       "      <td>-0.478677</td>\n",
       "      <td>-0.352381</td>\n",
       "    </tr>\n",
       "    <tr>\n",
       "      <th>10</th>\n",
       "      <td>0</td>\n",
       "      <td>11</td>\n",
       "      <td>3.0</td>\n",
       "      <td>0.537165</td>\n",
       "      <td>-0.458627</td>\n",
       "    </tr>\n",
       "    <tr>\n",
       "      <th>11</th>\n",
       "      <td>0</td>\n",
       "      <td>12</td>\n",
       "      <td>3.0</td>\n",
       "      <td>1.460659</td>\n",
       "      <td>-1.450253</td>\n",
       "    </tr>\n",
       "    <tr>\n",
       "      <th>12</th>\n",
       "      <td>0</td>\n",
       "      <td>13</td>\n",
       "      <td>4.0</td>\n",
       "      <td>1.460659</td>\n",
       "      <td>0.355923</td>\n",
       "    </tr>\n",
       "    <tr>\n",
       "      <th>13</th>\n",
       "      <td>0</td>\n",
       "      <td>14</td>\n",
       "      <td>4.0</td>\n",
       "      <td>-0.140063</td>\n",
       "      <td>-1.131516</td>\n",
       "    </tr>\n",
       "    <tr>\n",
       "      <th>14</th>\n",
       "      <td>0</td>\n",
       "      <td>15</td>\n",
       "      <td>4.0</td>\n",
       "      <td>0.475599</td>\n",
       "      <td>0.320508</td>\n",
       "    </tr>\n",
       "    <tr>\n",
       "      <th>15</th>\n",
       "      <td>0</td>\n",
       "      <td>16</td>\n",
       "      <td>3.0</td>\n",
       "      <td>0.537165</td>\n",
       "      <td>-1.839820</td>\n",
       "    </tr>\n",
       "    <tr>\n",
       "      <th>16</th>\n",
       "      <td>0</td>\n",
       "      <td>17</td>\n",
       "      <td>4.0</td>\n",
       "      <td>1.337526</td>\n",
       "      <td>-0.139890</td>\n",
       "    </tr>\n",
       "    <tr>\n",
       "      <th>17</th>\n",
       "      <td>0</td>\n",
       "      <td>18</td>\n",
       "      <td>4.0</td>\n",
       "      <td>0.660298</td>\n",
       "      <td>0.568414</td>\n",
       "    </tr>\n",
       "    <tr>\n",
       "      <th>18</th>\n",
       "      <td>0</td>\n",
       "      <td>19</td>\n",
       "      <td>3.0</td>\n",
       "      <td>-1.032773</td>\n",
       "      <td>-0.777364</td>\n",
       "    </tr>\n",
       "    <tr>\n",
       "      <th>19</th>\n",
       "      <td>0</td>\n",
       "      <td>20</td>\n",
       "      <td>3.0</td>\n",
       "      <td>0.475599</td>\n",
       "      <td>0.497584</td>\n",
       "    </tr>\n",
       "    <tr>\n",
       "      <th>20</th>\n",
       "      <td>0</td>\n",
       "      <td>21</td>\n",
       "      <td>4.0</td>\n",
       "      <td>0.260117</td>\n",
       "      <td>0.887151</td>\n",
       "    </tr>\n",
       "    <tr>\n",
       "      <th>21</th>\n",
       "      <td>0</td>\n",
       "      <td>22</td>\n",
       "      <td>2.0</td>\n",
       "      <td>0.937346</td>\n",
       "      <td>0.391338</td>\n",
       "    </tr>\n",
       "    <tr>\n",
       "      <th>22</th>\n",
       "      <td>0</td>\n",
       "      <td>23</td>\n",
       "      <td>5.0</td>\n",
       "      <td>1.553008</td>\n",
       "      <td>0.532999</td>\n",
       "    </tr>\n",
       "    <tr>\n",
       "      <th>23</th>\n",
       "      <td>0</td>\n",
       "      <td>24</td>\n",
       "      <td>3.0</td>\n",
       "      <td>0.783430</td>\n",
       "      <td>-0.175305</td>\n",
       "    </tr>\n",
       "    <tr>\n",
       "      <th>24</th>\n",
       "      <td>0</td>\n",
       "      <td>25</td>\n",
       "      <td>3.0</td>\n",
       "      <td>-1.586870</td>\n",
       "      <td>0.108016</td>\n",
       "    </tr>\n",
       "    <tr>\n",
       "      <th>25</th>\n",
       "      <td>1</td>\n",
       "      <td>26</td>\n",
       "      <td>2.0</td>\n",
       "      <td>-1.248255</td>\n",
       "      <td>0.957981</td>\n",
       "    </tr>\n",
       "    <tr>\n",
       "      <th>26</th>\n",
       "      <td>1</td>\n",
       "      <td>27</td>\n",
       "      <td>2.0</td>\n",
       "      <td>-0.078497</td>\n",
       "      <td>0.320508</td>\n",
       "    </tr>\n",
       "    <tr>\n",
       "      <th>27</th>\n",
       "      <td>1</td>\n",
       "      <td>28</td>\n",
       "      <td>2.0</td>\n",
       "      <td>-1.987050</td>\n",
       "      <td>-1.379422</td>\n",
       "    </tr>\n",
       "    <tr>\n",
       "      <th>28</th>\n",
       "      <td>1</td>\n",
       "      <td>29</td>\n",
       "      <td>2.0</td>\n",
       "      <td>0.475599</td>\n",
       "      <td>1.453794</td>\n",
       "    </tr>\n",
       "    <tr>\n",
       "      <th>29</th>\n",
       "      <td>1</td>\n",
       "      <td>30</td>\n",
       "      <td>2.0</td>\n",
       "      <td>-0.817292</td>\n",
       "      <td>0.922566</td>\n",
       "    </tr>\n",
       "    <tr>\n",
       "      <th>30</th>\n",
       "      <td>1</td>\n",
       "      <td>31</td>\n",
       "      <td>4.0</td>\n",
       "      <td>-0.817292</td>\n",
       "      <td>0.072601</td>\n",
       "    </tr>\n",
       "    <tr>\n",
       "      <th>31</th>\n",
       "      <td>1</td>\n",
       "      <td>32</td>\n",
       "      <td>1.0</td>\n",
       "      <td>-1.217472</td>\n",
       "      <td>-1.485668</td>\n",
       "    </tr>\n",
       "    <tr>\n",
       "      <th>32</th>\n",
       "      <td>1</td>\n",
       "      <td>33</td>\n",
       "      <td>2.0</td>\n",
       "      <td>-0.786509</td>\n",
       "      <td>1.524625</td>\n",
       "    </tr>\n",
       "    <tr>\n",
       "      <th>33</th>\n",
       "      <td>1</td>\n",
       "      <td>34</td>\n",
       "      <td>4.0</td>\n",
       "      <td>-0.324762</td>\n",
       "      <td>1.843362</td>\n",
       "    </tr>\n",
       "    <tr>\n",
       "      <th>34</th>\n",
       "      <td>1</td>\n",
       "      <td>35</td>\n",
       "      <td>3.0</td>\n",
       "      <td>-1.248255</td>\n",
       "      <td>0.143432</td>\n",
       "    </tr>\n",
       "    <tr>\n",
       "      <th>35</th>\n",
       "      <td>1</td>\n",
       "      <td>36</td>\n",
       "      <td>1.0</td>\n",
       "      <td>0.229334</td>\n",
       "      <td>-0.883609</td>\n",
       "    </tr>\n",
       "    <tr>\n",
       "      <th>36</th>\n",
       "      <td>1</td>\n",
       "      <td>37</td>\n",
       "      <td>4.0</td>\n",
       "      <td>0.475599</td>\n",
       "      <td>-0.954440</td>\n",
       "    </tr>\n",
       "    <tr>\n",
       "      <th>37</th>\n",
       "      <td>1</td>\n",
       "      <td>38</td>\n",
       "      <td>2.0</td>\n",
       "      <td>-0.293979</td>\n",
       "      <td>-1.308592</td>\n",
       "    </tr>\n",
       "    <tr>\n",
       "      <th>38</th>\n",
       "      <td>1</td>\n",
       "      <td>39</td>\n",
       "      <td>4.0</td>\n",
       "      <td>0.013852</td>\n",
       "      <td>1.914192</td>\n",
       "    </tr>\n",
       "    <tr>\n",
       "      <th>39</th>\n",
       "      <td>1</td>\n",
       "      <td>40</td>\n",
       "      <td>3.0</td>\n",
       "      <td>-1.125123</td>\n",
       "      <td>-0.494042</td>\n",
       "    </tr>\n",
       "  </tbody>\n",
       "</table>\n",
       "</div>"
      ],
      "text/plain": [
       "    condition  dyad_ID  rapport  negative_word_similarity  \\\n",
       "0           0        1      3.0                  0.783430   \n",
       "1           0        2      4.0                  1.399093   \n",
       "2           0        3      3.0                  0.783430   \n",
       "3           0        4      5.0                  1.522225   \n",
       "4           0        5      3.0                 -1.586870   \n",
       "5           0        6      3.0                 -1.525303   \n",
       "6           0        7      3.0                  1.152828   \n",
       "7           0        8      3.0                 -0.447894   \n",
       "8           0        9      2.0                 -0.571027   \n",
       "9           0       10      4.0                 -0.478677   \n",
       "10          0       11      3.0                  0.537165   \n",
       "11          0       12      3.0                  1.460659   \n",
       "12          0       13      4.0                  1.460659   \n",
       "13          0       14      4.0                 -0.140063   \n",
       "14          0       15      4.0                  0.475599   \n",
       "15          0       16      3.0                  0.537165   \n",
       "16          0       17      4.0                  1.337526   \n",
       "17          0       18      4.0                  0.660298   \n",
       "18          0       19      3.0                 -1.032773   \n",
       "19          0       20      3.0                  0.475599   \n",
       "20          0       21      4.0                  0.260117   \n",
       "21          0       22      2.0                  0.937346   \n",
       "22          0       23      5.0                  1.553008   \n",
       "23          0       24      3.0                  0.783430   \n",
       "24          0       25      3.0                 -1.586870   \n",
       "25          1       26      2.0                 -1.248255   \n",
       "26          1       27      2.0                 -0.078497   \n",
       "27          1       28      2.0                 -1.987050   \n",
       "28          1       29      2.0                  0.475599   \n",
       "29          1       30      2.0                 -0.817292   \n",
       "30          1       31      4.0                 -0.817292   \n",
       "31          1       32      1.0                 -1.217472   \n",
       "32          1       33      2.0                 -0.786509   \n",
       "33          1       34      4.0                 -0.324762   \n",
       "34          1       35      3.0                 -1.248255   \n",
       "35          1       36      1.0                  0.229334   \n",
       "36          1       37      4.0                  0.475599   \n",
       "37          1       38      2.0                 -0.293979   \n",
       "38          1       39      4.0                  0.013852   \n",
       "39          1       40      3.0                 -1.125123   \n",
       "\n",
       "    positive_word_similarity  \n",
       "0                  -1.273177  \n",
       "1                  -1.485668  \n",
       "2                   0.710075  \n",
       "3                   0.639245  \n",
       "4                   1.099642  \n",
       "5                   0.178847  \n",
       "6                   1.382964  \n",
       "7                  -1.060685  \n",
       "8                  -0.175305  \n",
       "9                  -0.352381  \n",
       "10                 -0.458627  \n",
       "11                 -1.450253  \n",
       "12                  0.355923  \n",
       "13                 -1.131516  \n",
       "14                  0.320508  \n",
       "15                 -1.839820  \n",
       "16                 -0.139890  \n",
       "17                  0.568414  \n",
       "18                 -0.777364  \n",
       "19                  0.497584  \n",
       "20                  0.887151  \n",
       "21                  0.391338  \n",
       "22                  0.532999  \n",
       "23                 -0.175305  \n",
       "24                  0.108016  \n",
       "25                  0.957981  \n",
       "26                  0.320508  \n",
       "27                 -1.379422  \n",
       "28                  1.453794  \n",
       "29                  0.922566  \n",
       "30                  0.072601  \n",
       "31                 -1.485668  \n",
       "32                  1.524625  \n",
       "33                  1.843362  \n",
       "34                  0.143432  \n",
       "35                 -0.883609  \n",
       "36                 -0.954440  \n",
       "37                 -1.308592  \n",
       "38                  1.914192  \n",
       "39                 -0.494042  "
      ]
     },
     "execution_count": 29,
     "metadata": {},
     "output_type": "execute_result"
    }
   ],
   "source": [
    "experiment_df"
   ]
  },
  {
   "cell_type": "markdown",
   "metadata": {},
   "source": [
    "## Save to file"
   ]
  },
  {
   "cell_type": "code",
   "execution_count": 30,
   "metadata": {},
   "outputs": [],
   "source": [
    "experiment_df.to_csv('../data/simulated_experiment_data.csv',\n",
    "                     sep=',',\n",
    "                     header=True,\n",
    "                     index=False)"
   ]
  }
 ],
 "metadata": {
  "kernelspec": {
   "display_name": "Python 3",
   "language": "python",
   "name": "python3"
  },
  "language_info": {
   "codemirror_mode": {
    "name": "ipython",
    "version": 3
   },
   "file_extension": ".py",
   "mimetype": "text/x-python",
   "name": "python",
   "nbconvert_exporter": "python",
   "pygments_lexer": "ipython3",
   "version": "3.6.4"
  }
 },
 "nbformat": 4,
 "nbformat_minor": 2
}
