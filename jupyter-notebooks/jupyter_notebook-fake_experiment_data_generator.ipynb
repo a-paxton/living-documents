{
 "cells": [
  {
   "cell_type": "markdown",
   "metadata": {},
   "source": [
    "# Making fake data"
   ]
  },
  {
   "cell_type": "markdown",
   "metadata": {},
   "source": [
    "For the sake of this workshop, we'll be using\n",
    "some fake data from a fake experiment. This Jupyter\n",
    "notebook contains code to create the data."
   ]
  },
  {
   "cell_type": "markdown",
   "metadata": {},
   "source": [
    "Let's say that we're interested in seeing how people bond\n",
    "(or build rapport) with one another based on different\n",
    "kinds of conversations. In our fake experiment, we'll ask\n",
    "two strangers to come into the lab and ask them to have\n",
    "a conversation with one another. They'll be randomly \n",
    "assigned to either have a conversation about a really good thing\n",
    "that happened to them in the past week (\"celebration\"\n",
    "conversation) or a really bad thing that happened to them in \n",
    "the past week (\"commiseration\" conversation). Their conversation\n",
    "will be audio-recorded. After they have the conversation,\n",
    "they'll each individually answer a question about how much\n",
    "they like their partner."
   ]
  },
  {
   "cell_type": "markdown",
   "metadata": {},
   "source": [
    "Let's say that this fake experiment is going to test\n",
    "the similarity of positive emotion words versus negative\n",
    "emotion words that people said during those\n",
    "conversations. We want to see whether partners who use\n",
    "similar negative and/or positive words in these two\n",
    "different kinds of conversations end up liking\n",
    "their partner more."
   ]
  },
  {
   "cell_type": "markdown",
   "metadata": {},
   "source": [
    "To figure out negative and positive word similarity,\n",
    "let's say that we transcribed their conversations and\n",
    "simply counted up the number of times per turn that\n",
    "each person used negative words and positive words.\n",
    "We then get the similarity score by taking the correlation\n",
    "of those two scores."
   ]
  },
  {
   "cell_type": "markdown",
   "metadata": {},
   "source": [
    "This means our data will look something like this:\n",
    "* **Dependent variable**: `rapport` (1-5 scale)\n",
    "* **Independent variables**: \n",
    "    * `negative_word_similarity` (-1 to +1; correlation \n",
    "        of negative words used by conversation partners)\n",
    "    * `positive_word_similarity` (-1 to +1; correlation \n",
    "        of positive words used by conversation partners)\n",
    "    * `conversation_type` (0 = \"commiseration\" conversation;\n",
    "        1 = \"celebration\" conversation)"
   ]
  },
  {
   "cell_type": "markdown",
   "metadata": {},
   "source": [
    "**Created by**: A. Paxton (University of \n",
    "California, Berkeley)"
   ]
  },
  {
   "cell_type": "markdown",
   "metadata": {},
   "source": [
    "**Last modified**: 05 April 2018"
   ]
  },
  {
   "cell_type": "markdown",
   "metadata": {},
   "source": [
    "***"
   ]
  },
  {
   "cell_type": "markdown",
   "metadata": {},
   "source": [
    "## Import libraries"
   ]
  },
  {
   "cell_type": "code",
   "execution_count": 1,
   "metadata": {},
   "outputs": [],
   "source": [
    "import pandas as pd\n",
    "import numpy as np\n",
    "import random"
   ]
  },
  {
   "cell_type": "markdown",
   "metadata": {},
   "source": [
    "## Specify how many dyads we want"
   ]
  },
  {
   "cell_type": "markdown",
   "metadata": {},
   "source": [
    "How many total dyads do we want?"
   ]
  },
  {
   "cell_type": "code",
   "execution_count": 3,
   "metadata": {},
   "outputs": [],
   "source": [
    "dyad_n = 40"
   ]
  },
  {
   "cell_type": "markdown",
   "metadata": {},
   "source": [
    "How many commiseration dyads do we want?"
   ]
  },
  {
   "cell_type": "code",
   "execution_count": 4,
   "metadata": {},
   "outputs": [],
   "source": [
    "commiseration_dyads = 25"
   ]
  },
  {
   "cell_type": "markdown",
   "metadata": {},
   "source": [
    "However many we have left over is how many\n",
    "celebration dyads we have."
   ]
  },
  {
   "cell_type": "code",
   "execution_count": 5,
   "metadata": {},
   "outputs": [],
   "source": [
    "celebration_dyads = dyad_n - commiseration_dyads"
   ]
  },
  {
   "cell_type": "markdown",
   "metadata": {},
   "source": [
    "## Add dyads to dataframe"
   ]
  },
  {
   "cell_type": "markdown",
   "metadata": {},
   "source": [
    "Create dyad IDs and dataframe for commiseration condition."
   ]
  },
  {
   "cell_type": "code",
   "execution_count": 6,
   "metadata": {},
   "outputs": [],
   "source": [
    "commiseration_dyad_IDs = range(1, \n",
    "                               commiseration_dyads+1)"
   ]
  },
  {
   "cell_type": "code",
   "execution_count": 7,
   "metadata": {},
   "outputs": [],
   "source": [
    "commiseration_dyad_df = pd.DataFrame({'dyad_ID': commiseration_dyad_IDs,\n",
    "                                      'condition': 0})"
   ]
  },
  {
   "cell_type": "markdown",
   "metadata": {},
   "source": [
    "Create dyad IDs and dataframe for celebration condition."
   ]
  },
  {
   "cell_type": "code",
   "execution_count": 8,
   "metadata": {},
   "outputs": [],
   "source": [
    "celebration_dyad_IDs = range(commiseration_dyads+1,\n",
    "                             dyad_n+1)"
   ]
  },
  {
   "cell_type": "code",
   "execution_count": 9,
   "metadata": {},
   "outputs": [],
   "source": [
    "celebration_dyad_df = pd.DataFrame({'dyad_ID': celebration_dyad_IDs,\n",
    "                                   'condition': 1})"
   ]
  },
  {
   "cell_type": "markdown",
   "metadata": {},
   "source": [
    "## Randomly generate rapport variables"
   ]
  },
  {
   "cell_type": "markdown",
   "metadata": {},
   "source": [
    "Let's make sure that our commiseration mean \n",
    "is higher than the celebration mean."
   ]
  },
  {
   "cell_type": "code",
   "execution_count": 10,
   "metadata": {},
   "outputs": [],
   "source": [
    "commiseration_mean = 4"
   ]
  },
  {
   "cell_type": "code",
   "execution_count": 11,
   "metadata": {},
   "outputs": [],
   "source": [
    "celebration_mean = 2"
   ]
  },
  {
   "cell_type": "markdown",
   "metadata": {},
   "source": [
    "Now, let's create separate distributions for each rapport."
   ]
  },
  {
   "cell_type": "code",
   "execution_count": 12,
   "metadata": {
    "scrolled": false
   },
   "outputs": [],
   "source": [
    "commiseration_rapport = [round(random.triangular(1,5, commiseration_mean), 0)\n",
    "                         for dyad in range(0, commiseration_dyads)]"
   ]
  },
  {
   "cell_type": "code",
   "execution_count": 13,
   "metadata": {},
   "outputs": [],
   "source": [
    "celebration_rapport = [round(random.triangular(1,5, celebration_mean), 0) \n",
    "                         for dyad in range(0, celebration_dyads)]"
   ]
  },
  {
   "cell_type": "markdown",
   "metadata": {},
   "source": [
    "And now we add them to the dataframes."
   ]
  },
  {
   "cell_type": "code",
   "execution_count": 14,
   "metadata": {},
   "outputs": [],
   "source": [
    "commiseration_dyad_df['rapport'] = commiseration_rapport"
   ]
  },
  {
   "cell_type": "code",
   "execution_count": 15,
   "metadata": {},
   "outputs": [],
   "source": [
    "celebration_dyad_df['rapport'] = celebration_rapport"
   ]
  },
  {
   "cell_type": "markdown",
   "metadata": {},
   "source": [
    "## Randomly create similarity scores"
   ]
  },
  {
   "cell_type": "markdown",
   "metadata": {},
   "source": [
    "Let's create them for the commiseration participants."
   ]
  },
  {
   "cell_type": "code",
   "execution_count": 16,
   "metadata": {},
   "outputs": [],
   "source": [
    "commiseration_positive = commiseration_dyad_df['rapport']/5 * .25 + [\n",
    "        random.random() for dyad in range(0, commiseration_dyads)]"
   ]
  },
  {
   "cell_type": "code",
   "execution_count": 17,
   "metadata": {},
   "outputs": [],
   "source": [
    "commiseration_positive = [round(score, 2) \n",
    "                          if score <= 1 \n",
    "                          else 1 \n",
    "                          for score in commiseration_positive ]"
   ]
  },
  {
   "cell_type": "code",
   "execution_count": 18,
   "metadata": {},
   "outputs": [],
   "source": [
    "commiseration_negative = commiseration_dyad_df['rapport']/5 * .75 + [\n",
    "            random.random() for dyad in range(0, commiseration_dyads)]"
   ]
  },
  {
   "cell_type": "code",
   "execution_count": 19,
   "metadata": {},
   "outputs": [],
   "source": [
    "commiseration_negative = [round(score, 2) \n",
    "                          if score <= 1 \n",
    "                          else 1 \n",
    "                          for score in commiseration_negative ]"
   ]
  },
  {
   "cell_type": "markdown",
   "metadata": {},
   "source": [
    "And for the celebration participants."
   ]
  },
  {
   "cell_type": "code",
   "execution_count": 20,
   "metadata": {},
   "outputs": [],
   "source": [
    "celebration_positive = celebration_dyad_df['rapport']/5 * .5 + [\n",
    "        random.random() for dyad in range(0, celebration_dyads)]"
   ]
  },
  {
   "cell_type": "code",
   "execution_count": 21,
   "metadata": {},
   "outputs": [],
   "source": [
    "celebration_positive = [round(score, 2) \n",
    "                          if score <= 1 \n",
    "                          else 1 \n",
    "                          for score in celebration_positive ]"
   ]
  },
  {
   "cell_type": "code",
   "execution_count": 22,
   "metadata": {},
   "outputs": [],
   "source": [
    "celebration_negative = celebration_dyad_df['rapport']/5 * .3 + [\n",
    "        random.random() for dyad in range(0, celebration_dyads)]"
   ]
  },
  {
   "cell_type": "code",
   "execution_count": 23,
   "metadata": {},
   "outputs": [],
   "source": [
    "celebration_negative = [round(score, 2) \n",
    "                          if score <= 1 \n",
    "                          else 1 \n",
    "                          for score in celebration_negative ]"
   ]
  },
  {
   "cell_type": "markdown",
   "metadata": {},
   "source": [
    "Again, we'll add them to the dataframe."
   ]
  },
  {
   "cell_type": "code",
   "execution_count": 24,
   "metadata": {},
   "outputs": [],
   "source": [
    "commiseration_dyad_df['negative_word_similarity'] = commiseration_negative"
   ]
  },
  {
   "cell_type": "code",
   "execution_count": 25,
   "metadata": {},
   "outputs": [],
   "source": [
    "commiseration_dyad_df['positive_word_similarity'] = commiseration_positive"
   ]
  },
  {
   "cell_type": "code",
   "execution_count": 26,
   "metadata": {},
   "outputs": [],
   "source": [
    "celebration_dyad_df['negative_word_similarity'] = celebration_negative"
   ]
  },
  {
   "cell_type": "code",
   "execution_count": 27,
   "metadata": {},
   "outputs": [],
   "source": [
    "celebration_dyad_df['positive_word_similarity'] = celebration_negative"
   ]
  },
  {
   "cell_type": "markdown",
   "metadata": {},
   "source": [
    "## Create unified dataset"
   ]
  },
  {
   "cell_type": "markdown",
   "metadata": {},
   "source": [
    "Now that we've created separate subsets for each condition,\n",
    "we'll combine them to create a single experiment dataframe."
   ]
  },
  {
   "cell_type": "code",
   "execution_count": 28,
   "metadata": {},
   "outputs": [],
   "source": [
    "experiment_df = commiseration_dyad_df.append(celebration_dyad_df).reset_index(drop=True)"
   ]
  },
  {
   "cell_type": "code",
   "execution_count": 29,
   "metadata": {
    "scrolled": true
   },
   "outputs": [
    {
     "data": {
      "text/html": [
       "<div>\n",
       "<style scoped>\n",
       "    .dataframe tbody tr th:only-of-type {\n",
       "        vertical-align: middle;\n",
       "    }\n",
       "\n",
       "    .dataframe tbody tr th {\n",
       "        vertical-align: top;\n",
       "    }\n",
       "\n",
       "    .dataframe thead th {\n",
       "        text-align: right;\n",
       "    }\n",
       "</style>\n",
       "<table border=\"1\" class=\"dataframe\">\n",
       "  <thead>\n",
       "    <tr style=\"text-align: right;\">\n",
       "      <th></th>\n",
       "      <th>condition</th>\n",
       "      <th>dyad_ID</th>\n",
       "      <th>rapport</th>\n",
       "      <th>negative_word_similarity</th>\n",
       "      <th>positive_word_similarity</th>\n",
       "    </tr>\n",
       "  </thead>\n",
       "  <tbody>\n",
       "    <tr>\n",
       "      <th>0</th>\n",
       "      <td>0</td>\n",
       "      <td>1</td>\n",
       "      <td>2.0</td>\n",
       "      <td>0.54</td>\n",
       "      <td>0.16</td>\n",
       "    </tr>\n",
       "    <tr>\n",
       "      <th>1</th>\n",
       "      <td>0</td>\n",
       "      <td>2</td>\n",
       "      <td>3.0</td>\n",
       "      <td>1.00</td>\n",
       "      <td>0.60</td>\n",
       "    </tr>\n",
       "    <tr>\n",
       "      <th>2</th>\n",
       "      <td>0</td>\n",
       "      <td>3</td>\n",
       "      <td>4.0</td>\n",
       "      <td>0.92</td>\n",
       "      <td>0.38</td>\n",
       "    </tr>\n",
       "    <tr>\n",
       "      <th>3</th>\n",
       "      <td>0</td>\n",
       "      <td>4</td>\n",
       "      <td>3.0</td>\n",
       "      <td>0.93</td>\n",
       "      <td>0.95</td>\n",
       "    </tr>\n",
       "    <tr>\n",
       "      <th>4</th>\n",
       "      <td>0</td>\n",
       "      <td>5</td>\n",
       "      <td>2.0</td>\n",
       "      <td>0.89</td>\n",
       "      <td>0.75</td>\n",
       "    </tr>\n",
       "    <tr>\n",
       "      <th>5</th>\n",
       "      <td>0</td>\n",
       "      <td>6</td>\n",
       "      <td>4.0</td>\n",
       "      <td>1.00</td>\n",
       "      <td>0.83</td>\n",
       "    </tr>\n",
       "    <tr>\n",
       "      <th>6</th>\n",
       "      <td>0</td>\n",
       "      <td>7</td>\n",
       "      <td>4.0</td>\n",
       "      <td>1.00</td>\n",
       "      <td>0.30</td>\n",
       "    </tr>\n",
       "    <tr>\n",
       "      <th>7</th>\n",
       "      <td>0</td>\n",
       "      <td>8</td>\n",
       "      <td>3.0</td>\n",
       "      <td>1.00</td>\n",
       "      <td>0.57</td>\n",
       "    </tr>\n",
       "    <tr>\n",
       "      <th>8</th>\n",
       "      <td>0</td>\n",
       "      <td>9</td>\n",
       "      <td>3.0</td>\n",
       "      <td>1.00</td>\n",
       "      <td>1.00</td>\n",
       "    </tr>\n",
       "    <tr>\n",
       "      <th>9</th>\n",
       "      <td>0</td>\n",
       "      <td>10</td>\n",
       "      <td>2.0</td>\n",
       "      <td>0.56</td>\n",
       "      <td>0.96</td>\n",
       "    </tr>\n",
       "    <tr>\n",
       "      <th>10</th>\n",
       "      <td>0</td>\n",
       "      <td>11</td>\n",
       "      <td>1.0</td>\n",
       "      <td>0.83</td>\n",
       "      <td>0.98</td>\n",
       "    </tr>\n",
       "    <tr>\n",
       "      <th>11</th>\n",
       "      <td>0</td>\n",
       "      <td>12</td>\n",
       "      <td>2.0</td>\n",
       "      <td>0.62</td>\n",
       "      <td>0.34</td>\n",
       "    </tr>\n",
       "    <tr>\n",
       "      <th>12</th>\n",
       "      <td>0</td>\n",
       "      <td>13</td>\n",
       "      <td>4.0</td>\n",
       "      <td>1.00</td>\n",
       "      <td>0.30</td>\n",
       "    </tr>\n",
       "    <tr>\n",
       "      <th>13</th>\n",
       "      <td>0</td>\n",
       "      <td>14</td>\n",
       "      <td>3.0</td>\n",
       "      <td>0.71</td>\n",
       "      <td>0.93</td>\n",
       "    </tr>\n",
       "    <tr>\n",
       "      <th>14</th>\n",
       "      <td>0</td>\n",
       "      <td>15</td>\n",
       "      <td>4.0</td>\n",
       "      <td>1.00</td>\n",
       "      <td>0.28</td>\n",
       "    </tr>\n",
       "    <tr>\n",
       "      <th>15</th>\n",
       "      <td>0</td>\n",
       "      <td>16</td>\n",
       "      <td>3.0</td>\n",
       "      <td>1.00</td>\n",
       "      <td>0.55</td>\n",
       "    </tr>\n",
       "    <tr>\n",
       "      <th>16</th>\n",
       "      <td>0</td>\n",
       "      <td>17</td>\n",
       "      <td>4.0</td>\n",
       "      <td>1.00</td>\n",
       "      <td>0.99</td>\n",
       "    </tr>\n",
       "    <tr>\n",
       "      <th>17</th>\n",
       "      <td>0</td>\n",
       "      <td>18</td>\n",
       "      <td>4.0</td>\n",
       "      <td>1.00</td>\n",
       "      <td>1.00</td>\n",
       "    </tr>\n",
       "    <tr>\n",
       "      <th>18</th>\n",
       "      <td>0</td>\n",
       "      <td>19</td>\n",
       "      <td>3.0</td>\n",
       "      <td>1.00</td>\n",
       "      <td>0.76</td>\n",
       "    </tr>\n",
       "    <tr>\n",
       "      <th>19</th>\n",
       "      <td>0</td>\n",
       "      <td>20</td>\n",
       "      <td>4.0</td>\n",
       "      <td>1.00</td>\n",
       "      <td>0.20</td>\n",
       "    </tr>\n",
       "    <tr>\n",
       "      <th>20</th>\n",
       "      <td>0</td>\n",
       "      <td>21</td>\n",
       "      <td>3.0</td>\n",
       "      <td>0.54</td>\n",
       "      <td>0.53</td>\n",
       "    </tr>\n",
       "    <tr>\n",
       "      <th>21</th>\n",
       "      <td>0</td>\n",
       "      <td>22</td>\n",
       "      <td>2.0</td>\n",
       "      <td>0.46</td>\n",
       "      <td>0.43</td>\n",
       "    </tr>\n",
       "    <tr>\n",
       "      <th>22</th>\n",
       "      <td>0</td>\n",
       "      <td>23</td>\n",
       "      <td>3.0</td>\n",
       "      <td>0.68</td>\n",
       "      <td>0.68</td>\n",
       "    </tr>\n",
       "    <tr>\n",
       "      <th>23</th>\n",
       "      <td>0</td>\n",
       "      <td>24</td>\n",
       "      <td>4.0</td>\n",
       "      <td>1.00</td>\n",
       "      <td>0.49</td>\n",
       "    </tr>\n",
       "    <tr>\n",
       "      <th>24</th>\n",
       "      <td>0</td>\n",
       "      <td>25</td>\n",
       "      <td>2.0</td>\n",
       "      <td>0.86</td>\n",
       "      <td>0.23</td>\n",
       "    </tr>\n",
       "    <tr>\n",
       "      <th>25</th>\n",
       "      <td>1</td>\n",
       "      <td>26</td>\n",
       "      <td>2.0</td>\n",
       "      <td>0.19</td>\n",
       "      <td>0.19</td>\n",
       "    </tr>\n",
       "    <tr>\n",
       "      <th>26</th>\n",
       "      <td>1</td>\n",
       "      <td>27</td>\n",
       "      <td>2.0</td>\n",
       "      <td>0.74</td>\n",
       "      <td>0.74</td>\n",
       "    </tr>\n",
       "    <tr>\n",
       "      <th>27</th>\n",
       "      <td>1</td>\n",
       "      <td>28</td>\n",
       "      <td>3.0</td>\n",
       "      <td>0.97</td>\n",
       "      <td>0.97</td>\n",
       "    </tr>\n",
       "    <tr>\n",
       "      <th>28</th>\n",
       "      <td>1</td>\n",
       "      <td>29</td>\n",
       "      <td>3.0</td>\n",
       "      <td>1.00</td>\n",
       "      <td>1.00</td>\n",
       "    </tr>\n",
       "    <tr>\n",
       "      <th>29</th>\n",
       "      <td>1</td>\n",
       "      <td>30</td>\n",
       "      <td>1.0</td>\n",
       "      <td>0.42</td>\n",
       "      <td>0.42</td>\n",
       "    </tr>\n",
       "    <tr>\n",
       "      <th>30</th>\n",
       "      <td>1</td>\n",
       "      <td>31</td>\n",
       "      <td>1.0</td>\n",
       "      <td>0.53</td>\n",
       "      <td>0.53</td>\n",
       "    </tr>\n",
       "    <tr>\n",
       "      <th>31</th>\n",
       "      <td>1</td>\n",
       "      <td>32</td>\n",
       "      <td>3.0</td>\n",
       "      <td>0.23</td>\n",
       "      <td>0.23</td>\n",
       "    </tr>\n",
       "    <tr>\n",
       "      <th>32</th>\n",
       "      <td>1</td>\n",
       "      <td>33</td>\n",
       "      <td>2.0</td>\n",
       "      <td>0.81</td>\n",
       "      <td>0.81</td>\n",
       "    </tr>\n",
       "    <tr>\n",
       "      <th>33</th>\n",
       "      <td>1</td>\n",
       "      <td>34</td>\n",
       "      <td>4.0</td>\n",
       "      <td>0.28</td>\n",
       "      <td>0.28</td>\n",
       "    </tr>\n",
       "    <tr>\n",
       "      <th>34</th>\n",
       "      <td>1</td>\n",
       "      <td>35</td>\n",
       "      <td>3.0</td>\n",
       "      <td>0.20</td>\n",
       "      <td>0.20</td>\n",
       "    </tr>\n",
       "    <tr>\n",
       "      <th>35</th>\n",
       "      <td>1</td>\n",
       "      <td>36</td>\n",
       "      <td>2.0</td>\n",
       "      <td>1.00</td>\n",
       "      <td>1.00</td>\n",
       "    </tr>\n",
       "    <tr>\n",
       "      <th>36</th>\n",
       "      <td>1</td>\n",
       "      <td>37</td>\n",
       "      <td>1.0</td>\n",
       "      <td>0.40</td>\n",
       "      <td>0.40</td>\n",
       "    </tr>\n",
       "    <tr>\n",
       "      <th>37</th>\n",
       "      <td>1</td>\n",
       "      <td>38</td>\n",
       "      <td>2.0</td>\n",
       "      <td>0.91</td>\n",
       "      <td>0.91</td>\n",
       "    </tr>\n",
       "    <tr>\n",
       "      <th>38</th>\n",
       "      <td>1</td>\n",
       "      <td>39</td>\n",
       "      <td>3.0</td>\n",
       "      <td>1.00</td>\n",
       "      <td>1.00</td>\n",
       "    </tr>\n",
       "    <tr>\n",
       "      <th>39</th>\n",
       "      <td>1</td>\n",
       "      <td>40</td>\n",
       "      <td>3.0</td>\n",
       "      <td>0.36</td>\n",
       "      <td>0.36</td>\n",
       "    </tr>\n",
       "  </tbody>\n",
       "</table>\n",
       "</div>"
      ],
      "text/plain": [
       "    condition  dyad_ID  rapport  negative_word_similarity  \\\n",
       "0           0        1      2.0                      0.54   \n",
       "1           0        2      3.0                      1.00   \n",
       "2           0        3      4.0                      0.92   \n",
       "3           0        4      3.0                      0.93   \n",
       "4           0        5      2.0                      0.89   \n",
       "5           0        6      4.0                      1.00   \n",
       "6           0        7      4.0                      1.00   \n",
       "7           0        8      3.0                      1.00   \n",
       "8           0        9      3.0                      1.00   \n",
       "9           0       10      2.0                      0.56   \n",
       "10          0       11      1.0                      0.83   \n",
       "11          0       12      2.0                      0.62   \n",
       "12          0       13      4.0                      1.00   \n",
       "13          0       14      3.0                      0.71   \n",
       "14          0       15      4.0                      1.00   \n",
       "15          0       16      3.0                      1.00   \n",
       "16          0       17      4.0                      1.00   \n",
       "17          0       18      4.0                      1.00   \n",
       "18          0       19      3.0                      1.00   \n",
       "19          0       20      4.0                      1.00   \n",
       "20          0       21      3.0                      0.54   \n",
       "21          0       22      2.0                      0.46   \n",
       "22          0       23      3.0                      0.68   \n",
       "23          0       24      4.0                      1.00   \n",
       "24          0       25      2.0                      0.86   \n",
       "25          1       26      2.0                      0.19   \n",
       "26          1       27      2.0                      0.74   \n",
       "27          1       28      3.0                      0.97   \n",
       "28          1       29      3.0                      1.00   \n",
       "29          1       30      1.0                      0.42   \n",
       "30          1       31      1.0                      0.53   \n",
       "31          1       32      3.0                      0.23   \n",
       "32          1       33      2.0                      0.81   \n",
       "33          1       34      4.0                      0.28   \n",
       "34          1       35      3.0                      0.20   \n",
       "35          1       36      2.0                      1.00   \n",
       "36          1       37      1.0                      0.40   \n",
       "37          1       38      2.0                      0.91   \n",
       "38          1       39      3.0                      1.00   \n",
       "39          1       40      3.0                      0.36   \n",
       "\n",
       "    positive_word_similarity  \n",
       "0                       0.16  \n",
       "1                       0.60  \n",
       "2                       0.38  \n",
       "3                       0.95  \n",
       "4                       0.75  \n",
       "5                       0.83  \n",
       "6                       0.30  \n",
       "7                       0.57  \n",
       "8                       1.00  \n",
       "9                       0.96  \n",
       "10                      0.98  \n",
       "11                      0.34  \n",
       "12                      0.30  \n",
       "13                      0.93  \n",
       "14                      0.28  \n",
       "15                      0.55  \n",
       "16                      0.99  \n",
       "17                      1.00  \n",
       "18                      0.76  \n",
       "19                      0.20  \n",
       "20                      0.53  \n",
       "21                      0.43  \n",
       "22                      0.68  \n",
       "23                      0.49  \n",
       "24                      0.23  \n",
       "25                      0.19  \n",
       "26                      0.74  \n",
       "27                      0.97  \n",
       "28                      1.00  \n",
       "29                      0.42  \n",
       "30                      0.53  \n",
       "31                      0.23  \n",
       "32                      0.81  \n",
       "33                      0.28  \n",
       "34                      0.20  \n",
       "35                      1.00  \n",
       "36                      0.40  \n",
       "37                      0.91  \n",
       "38                      1.00  \n",
       "39                      0.36  "
      ]
     },
     "execution_count": 29,
     "metadata": {},
     "output_type": "execute_result"
    }
   ],
   "source": [
    "experiment_df"
   ]
  },
  {
   "cell_type": "markdown",
   "metadata": {},
   "source": [
    "## Save to file"
   ]
  },
  {
   "cell_type": "code",
   "execution_count": 30,
   "metadata": {},
   "outputs": [],
   "source": [
    "experiment_df.to_csv('../data/simulated_experiment_data.csv',\n",
    "                     sep=',',\n",
    "                     header=True,\n",
    "                     index=False)"
   ]
  }
 ],
 "metadata": {
  "kernelspec": {
   "display_name": "Python 2",
   "language": "python",
   "name": "python2"
  },
  "language_info": {
   "codemirror_mode": {
    "name": "ipython",
    "version": 2
   },
   "file_extension": ".py",
   "mimetype": "text/x-python",
   "name": "python",
   "nbconvert_exporter": "python",
   "pygments_lexer": "ipython2",
   "version": "2.7.14"
  }
 },
 "nbformat": 4,
 "nbformat_minor": 2
}
